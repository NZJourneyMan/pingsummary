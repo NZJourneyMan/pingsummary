{
 "cells": [
  {
   "cell_type": "code",
   "execution_count": 1,
   "metadata": {},
   "outputs": [],
   "source": [
    "import sys, os\n",
    "from threading import Thread, Event, Timer\n",
    "from queue import Queue\n",
    "import time"
   ]
  },
  {
   "cell_type": "code",
   "execution_count": 2,
   "metadata": {},
   "outputs": [],
   "source": [
    "class ThreadClass(Thread):\n",
    "    def __init__(self):\n",
    "        super().__init__()\n",
    "        self.running = Event()\n",
    "        self.sleep = Event()\n",
    "        self.queue = Queue()\n",
    "        \n",
    "        \n",
    "    def stop(self):\n",
    "        self.running.set()\n",
    "        self.sleep.set()\n",
    "        time.sleep(0.001)\n",
    "        self.queue.put(None)\n",
    "        \n",
    "    def run(self):\n",
    "        i = 1000\n",
    "        while not self.running.is_set():\n",
    "            i += 1\n",
    "            self.queue.put(i)\n",
    "            self.sleep.wait(1)\n"
   ]
  },
  {
   "source": [
    "thread = ThreadClass()\n",
    "thread.start()\n",
    "t = Timer(2, thread.stop)\n",
    "t.start()\n",
    "\n",
    "m = Timer(1, lambda : print('timer'))\n",
    "m.start()\n",
    "m.cancel()\n",
    "print(m)\n",
    "print(f'Alarm is alive: {m.is_alive()}')\n",
    "\n",
    "try:\n",
    "    while thread.is_alive():\n",
    "        print(f'Got from queue {thread.queue.get(timeout=2)}')\n",
    "    print('Done')\n",
    "except KeyboardInterrupt:\n",
    "    print('Interrupted')\n"
   ],
   "cell_type": "code",
   "metadata": {},
   "execution_count": 65,
   "outputs": [
    {
     "output_type": "stream",
     "name": "stdout",
     "text": [
      "<Timer(Thread-105, started 139679517112064)>\n",
      "Alarm is alive: True\n",
      "Got from queue 1001\n",
      "Got from queue 1002\n",
      "Got from queue 1003\n",
      "Done\n"
     ]
    }
   ]
  },
  {
   "cell_type": "code",
   "execution_count": 4,
   "metadata": {},
   "outputs": [
    {
     "output_type": "stream",
     "name": "stdout",
     "text": [
      "First key: a\nLen: 3\na 1\n('b', 2)\n('c', 3)\n"
     ]
    }
   ],
   "source": [
    "from collections import OrderedDict\n",
    "\n",
    "d = OrderedDict()\n",
    "d['a'] = 1\n",
    "d['b'] = 2\n",
    "d['c'] = 3\n",
    "k = list(d.keys())[0]\n",
    "\n",
    "print(f'First key: {k}')\n",
    "print(f'Len: {len(d)}')\n",
    "print(k, d.pop(k))\n",
    "print(d.popitem(last=False))\n",
    "print(d.popitem())\n"
   ]
  }
 ],
 "metadata": {
  "kernelspec": {
   "name": "python385jvsc74a57bd031f2aee4e71d21fbe5cf8b01ff0e069b9275f58929596ceb00d14d90e3e16cd6",
   "display_name": "Python 3.8.5 64-bit"
  },
  "language_info": {
   "codemirror_mode": {
    "name": "ipython",
    "version": 3
   },
   "file_extension": ".py",
   "mimetype": "text/x-python",
   "name": "python",
   "nbconvert_exporter": "python",
   "pygments_lexer": "ipython3",
   "version": "3.8.5-final"
  }
 },
 "nbformat": 4,
 "nbformat_minor": 4
}