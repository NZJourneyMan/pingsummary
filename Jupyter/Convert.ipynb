{
 "metadata": {
  "language_info": {
   "codemirror_mode": {
    "name": "ipython",
    "version": 3
   },
   "file_extension": ".py",
   "mimetype": "text/x-python",
   "name": "python",
   "nbconvert_exporter": "python",
   "pygments_lexer": "ipython3",
   "version": "3.8.5-final"
  },
  "orig_nbformat": 2,
  "kernelspec": {
   "name": "python385jvsc74a57bd031f2aee4e71d21fbe5cf8b01ff0e069b9275f58929596ceb00d14d90e3e16cd6",
   "display_name": "Python 3.8.5 64-bit"
  }
 },
 "nbformat": 4,
 "nbformat_minor": 2,
 "cells": [
  {
   "cell_type": "code",
   "execution_count": 1,
   "metadata": {
    "tags": []
   },
   "outputs": [
    {
     "output_type": "stream",
     "name": "stdout",
     "text": [
      "Time now is  2021-04-11T23:14:56.471938+12:00\n['2021-04-10T14:34:17.487396+12:00', '1618022057.487396', '0.03129887580871582', '0.03308068883830104', '0.03779196739196777', '0']\n['2021-04-10T14:35:17.487396+12:00', '1618022117.487396', '0.03121161460876465', '0.03295736888359333', '0.038614749908447266', '0']\n"
     ]
    }
   ],
   "source": [
    "import csv, sys, os, time\n",
    "from datetime import datetime\n",
    "\n",
    "# sys.path.append('../venv/lib/python3.8/site-packages')\n",
    "# import pytz\n",
    "\n",
    "# print(datetime.fromtimestamp(t).isoformat())\n",
    "\n",
    "d = datetime.now()\n",
    "\n",
    "\n",
    "# timezone = pytz.timezone(\"NZ\")\n",
    "# timezone = pytz.timezone(\"America/Los_Angeles\")\n",
    "# d_aware = timezone.localize(d)\n",
    "# print(d_aware.isoformat())\n",
    "\n",
    "print('Time now is ', datetime.fromtimestamp(time.time()).astimezone().isoformat())\n",
    "\n",
    "with open('../mw.log') as fd:\n",
    "\n",
    "    i = 0\n",
    "    for row in csv.reader(fd):\n",
    "        i += 1\n",
    "        if i > 2:\n",
    "            break\n",
    "        d = datetime.fromtimestamp(float(row[0])).astimezone().isoformat()\n",
    "        # d = datetime.fromtimestamp(float(row[0])).isoformat()\n",
    "        row.insert(0, d)\n",
    "        print(row)\n"
   ]
  }
 ]
}